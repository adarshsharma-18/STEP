{
 "cells": [
  {
   "cell_type": "markdown",
   "id": "4bd65bee",
   "metadata": {},
   "source": [
    "APNI KAKSHA - OOP python "
   ]
  },
  {
   "cell_type": "code",
   "execution_count": null,
   "id": "c3f2010c",
   "metadata": {},
   "outputs": [
    {
     "name": "stdout",
     "output_type": "stream",
     "text": [
      "80.0\n"
     ]
    }
   ],
   "source": [
    "class Student:\n",
    "    def __init__(self,name,Eng,Math,sci):\n",
    "        self.name = name\n",
    "        self.Eng = Eng\n",
    "        self.Math = Math\n",
    "        self.sci = sci\n",
    "    def getavg(self):\n",
    "        avg=(self.Eng+self.Math+self.sci)/3\n",
    "        return avg\n",
    "\n",
    "s1=Student(\"adarsh\",90,80,70)\n",
    "\n",
    "print(s1.getavg())\n",
    "\n",
    "\n"
   ]
  },
  {
   "cell_type": "code",
   "execution_count": 11,
   "id": "bd9d48e4",
   "metadata": {},
   "outputs": [
    {
     "name": "stdout",
     "output_type": "stream",
     "text": [
      "80.0\n"
     ]
    }
   ],
   "source": [
    "class Student:\n",
    "    def __init__(self,name,marks):\n",
    "        self.name = name\n",
    "        self.Eng = marks[0]\n",
    "        self.Math = marks[1]\n",
    "        self.sci = marks[2]\n",
    "    def getavg(self):\n",
    "        avg=(self.Eng+self.Math+self.sci)/3\n",
    "        return avg\n",
    "\n",
    "s1=Student(\"adarsh\",[90,80,70])\n",
    "\n",
    "print(s1.getavg())\n",
    "\n",
    "\n"
   ]
  },
  {
   "cell_type": "code",
   "execution_count": null,
   "id": "3a91517f",
   "metadata": {},
   "outputs": [
    {
     "name": "stdout",
     "output_type": "stream",
     "text": [
      "80.0\n"
     ]
    }
   ],
   "source": [
    "class Student:\n",
    "    def __init__(self,name,marks):\n",
    "        self.name = name\n",
    "        self.marks = marks\n",
    "    def getavg(self):\n",
    "        sum=0\n",
    "        for  i in self.marks:\n",
    "            sum+=i\n",
    "        avg=sum/len(self.marks)\n",
    "        return avg\n",
    "\n",
    "s1=Student(\"adarsh\",[90,80,70])\n",
    "\n",
    "print(s1.getavg())\n",
    "\n",
    "\n"
   ]
  },
  {
   "cell_type": "code",
   "execution_count": 18,
   "id": "b2ec7b54",
   "metadata": {},
   "outputs": [
    {
     "name": "stdout",
     "output_type": "stream",
     "text": [
      "110\n",
      "debiting amount 50\n",
      "60\n",
      "balance nahi hai\n",
      "60\n"
     ]
    }
   ],
   "source": [
    "class Account:\n",
    "    def __init__(self,balance,accno):\n",
    "        self.balance = balance\n",
    "        self.accno = accno\n",
    "    def credit(self,amount):\n",
    "        self.balance += amount\n",
    "    def debit(self,amount):\n",
    "        if amount > self.balance:\n",
    "            print(\"balance nahi hai\")\n",
    "        else:\n",
    "            print(\"debiting amount\",amount)\n",
    "            self.balance -=amount\n",
    "    def checkbalnce(self):\n",
    "        return self.balance\n",
    "    \n",
    "a1=Account(10,123455678)\n",
    "a1.credit(100)\n",
    "print(a1.checkbalnce()) \n",
    "a1.debit(50)\n",
    "print(a1.checkbalnce())\n",
    "a1.debit(100)\n",
    "print(a1.checkbalnce()) \n"
   ]
  },
  {
   "cell_type": "code",
   "execution_count": null,
   "id": "9a6dbc66",
   "metadata": {},
   "outputs": [],
   "source": []
  }
 ],
 "metadata": {
  "kernelspec": {
   "display_name": "Python 3",
   "language": "python",
   "name": "python3"
  },
  "language_info": {
   "codemirror_mode": {
    "name": "ipython",
    "version": 3
   },
   "file_extension": ".py",
   "mimetype": "text/x-python",
   "name": "python",
   "nbconvert_exporter": "python",
   "pygments_lexer": "ipython3",
   "version": "3.12.1"
  }
 },
 "nbformat": 4,
 "nbformat_minor": 5
}
